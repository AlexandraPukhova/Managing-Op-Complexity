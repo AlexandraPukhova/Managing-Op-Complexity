{
  "nbformat": 4,
  "nbformat_minor": 0,
  "metadata": {
    "kernelspec": {
      "display_name": "Python 3",
      "language": "python",
      "name": "python3"
    },
    "language_info": {
      "codemirror_mode": {
        "name": "ipython",
        "version": 3
      },
      "file_extension": ".py",
      "mimetype": "text/x-python",
      "name": "python",
      "nbconvert_exporter": "python",
      "pygments_lexer": "ipython3",
      "version": "3.7.4"
    },
    "colab": {
      "name": "Final_Project_DS4MOC.ipynb",
      "provenance": [],
      "collapsed_sections": []
    }
  },
  "cells": [
    {
      "cell_type": "markdown",
      "metadata": {
        "id": "QCOThSN4BQRE",
        "colab_type": "text"
      },
      "source": [
        "# Battling Data Imbalance in IBM HR Attrition Challenge"
      ]
    },
    {
      "cell_type": "code",
      "metadata": {
        "id": "A7ot048Ech6s",
        "colab_type": "code",
        "colab": {}
      },
      "source": [
        "# Import warnings filter\n",
        "from warnings import simplefilter\n",
        "\n",
        "# Ignore all future warnings\n",
        "simplefilter(action='ignore', category=FutureWarning)"
      ],
      "execution_count": 0,
      "outputs": []
    },
    {
      "cell_type": "code",
      "metadata": {
        "id": "ZtuHCEPBBQRM",
        "colab_type": "code",
        "colab": {}
      },
      "source": [
        "#Import packages\n",
        "\n",
        "import copy\n",
        "import pandas as pd\n",
        "import matplotlib.pyplot as plt\n",
        "import seaborn as sns\n",
        "import numpy as np\n",
        "from numpy import where\n",
        "from pprint import pprint\n",
        "from scipy import stats\n",
        "from collections import Counter\n",
        "\n",
        "from xgboost import XGBClassifier\n",
        "from sklearn.tree import DecisionTreeClassifier\n",
        "from sklearn.ensemble import RandomForestClassifier\n",
        "from sklearn.linear_model import LogisticRegression\n",
        "from sklearn.preprocessing import MinMaxScaler\n",
        "from imblearn.over_sampling import SMOTE\n",
        "from imblearn.pipeline import Pipeline\n",
        "\n",
        "from sklearn.model_selection import train_test_split, GridSearchCV, \\\n",
        "RandomizedSearchCV, StratifiedKFold, RepeatedStratifiedKFold, cross_val_score\n",
        "\n",
        "from sklearn.feature_selection import SelectFromModel\n",
        "from sklearn.metrics import make_scorer, recall_score, confusion_matrix, \\\n",
        "precision_score, f1_score, accuracy_score, classification_report"
      ],
      "execution_count": 0,
      "outputs": []
    },
    {
      "cell_type": "code",
      "metadata": {
        "id": "X9YE8i0XBQRu",
        "colab_type": "code",
        "colab": {}
      },
      "source": [
        "# Loading the data\n",
        "# Data citation: (Subhash, 2017)\n",
        "data = pd.read_csv('hr_dataset.csv')"
      ],
      "execution_count": 0,
      "outputs": []
    },
    {
      "cell_type": "markdown",
      "metadata": {
        "id": "hCuv_6d1BQR_",
        "colab_type": "text"
      },
      "source": [
        "## Data pre-processing"
      ]
    },
    {
      "cell_type": "code",
      "metadata": {
        "id": "6rZIDxp_EN-c",
        "colab_type": "code",
        "outputId": "71412ecf-f130-4dab-a58d-5cceb9868566",
        "colab": {
          "base_uri": "https://localhost:8080/",
          "height": 343
        }
      },
      "source": [
        "display(data.head())\n",
        "print()\n",
        "print('There are', data.shape[0], 'observations and', data.shape[1], 'features')\n",
        "\n",
        "# Attrition column: stay is 0, churn is 1 \n",
        "# Gender column: female is 0, male is 1"
      ],
      "execution_count": 254,
      "outputs": [
        {
          "output_type": "display_data",
          "data": {
            "text/html": [
              "<div>\n",
              "<style scoped>\n",
              "    .dataframe tbody tr th:only-of-type {\n",
              "        vertical-align: middle;\n",
              "    }\n",
              "\n",
              "    .dataframe tbody tr th {\n",
              "        vertical-align: top;\n",
              "    }\n",
              "\n",
              "    .dataframe thead th {\n",
              "        text-align: right;\n",
              "    }\n",
              "</style>\n",
              "<table border=\"1\" class=\"dataframe\">\n",
              "  <thead>\n",
              "    <tr style=\"text-align: right;\">\n",
              "      <th></th>\n",
              "      <th>Age</th>\n",
              "      <th>Attrition</th>\n",
              "      <th>BusinessTravel</th>\n",
              "      <th>Department</th>\n",
              "      <th>DistanceFromHome</th>\n",
              "      <th>Education</th>\n",
              "      <th>EducationField</th>\n",
              "      <th>EnvironmentSatisfaction</th>\n",
              "      <th>Gender</th>\n",
              "      <th>JobInvolvement</th>\n",
              "      <th>JobLevel</th>\n",
              "      <th>JobRole</th>\n",
              "      <th>JobSatisfaction</th>\n",
              "      <th>MaritalStatus</th>\n",
              "      <th>MonthlyIncome</th>\n",
              "      <th>NumCompaniesWorked</th>\n",
              "      <th>OverTime</th>\n",
              "      <th>PercentSalaryHike</th>\n",
              "      <th>PerformanceRating</th>\n",
              "      <th>RelationshipSatisfaction</th>\n",
              "      <th>StockOptionLevel</th>\n",
              "      <th>TotalWorkingYears</th>\n",
              "      <th>TrainingTimesLastYear</th>\n",
              "      <th>WorkLifeBalance</th>\n",
              "      <th>YearsAtCompany</th>\n",
              "      <th>YearsInCurrentRole</th>\n",
              "      <th>YearsSinceLastPromotion</th>\n",
              "      <th>YearsWithCurrManager</th>\n",
              "    </tr>\n",
              "  </thead>\n",
              "  <tbody>\n",
              "    <tr>\n",
              "      <th>0</th>\n",
              "      <td>41</td>\n",
              "      <td>1</td>\n",
              "      <td>Travel_Rarely</td>\n",
              "      <td>Sales</td>\n",
              "      <td>1</td>\n",
              "      <td>2</td>\n",
              "      <td>Life Sciences</td>\n",
              "      <td>2</td>\n",
              "      <td>0</td>\n",
              "      <td>3</td>\n",
              "      <td>2</td>\n",
              "      <td>Sales Executive</td>\n",
              "      <td>4</td>\n",
              "      <td>Single</td>\n",
              "      <td>5993</td>\n",
              "      <td>8</td>\n",
              "      <td>1</td>\n",
              "      <td>11</td>\n",
              "      <td>3</td>\n",
              "      <td>1</td>\n",
              "      <td>0</td>\n",
              "      <td>8</td>\n",
              "      <td>0</td>\n",
              "      <td>1</td>\n",
              "      <td>6</td>\n",
              "      <td>4</td>\n",
              "      <td>0</td>\n",
              "      <td>5</td>\n",
              "    </tr>\n",
              "    <tr>\n",
              "      <th>1</th>\n",
              "      <td>49</td>\n",
              "      <td>0</td>\n",
              "      <td>Travel_Frequently</td>\n",
              "      <td>Research &amp; Development</td>\n",
              "      <td>8</td>\n",
              "      <td>1</td>\n",
              "      <td>Life Sciences</td>\n",
              "      <td>3</td>\n",
              "      <td>1</td>\n",
              "      <td>2</td>\n",
              "      <td>2</td>\n",
              "      <td>Research Scientist</td>\n",
              "      <td>2</td>\n",
              "      <td>Married</td>\n",
              "      <td>5130</td>\n",
              "      <td>1</td>\n",
              "      <td>0</td>\n",
              "      <td>23</td>\n",
              "      <td>4</td>\n",
              "      <td>4</td>\n",
              "      <td>1</td>\n",
              "      <td>10</td>\n",
              "      <td>3</td>\n",
              "      <td>3</td>\n",
              "      <td>10</td>\n",
              "      <td>7</td>\n",
              "      <td>1</td>\n",
              "      <td>7</td>\n",
              "    </tr>\n",
              "    <tr>\n",
              "      <th>2</th>\n",
              "      <td>37</td>\n",
              "      <td>1</td>\n",
              "      <td>Travel_Rarely</td>\n",
              "      <td>Research &amp; Development</td>\n",
              "      <td>2</td>\n",
              "      <td>2</td>\n",
              "      <td>Other</td>\n",
              "      <td>4</td>\n",
              "      <td>1</td>\n",
              "      <td>2</td>\n",
              "      <td>1</td>\n",
              "      <td>Laboratory Technician</td>\n",
              "      <td>3</td>\n",
              "      <td>Single</td>\n",
              "      <td>2090</td>\n",
              "      <td>6</td>\n",
              "      <td>1</td>\n",
              "      <td>15</td>\n",
              "      <td>3</td>\n",
              "      <td>2</td>\n",
              "      <td>0</td>\n",
              "      <td>7</td>\n",
              "      <td>3</td>\n",
              "      <td>3</td>\n",
              "      <td>0</td>\n",
              "      <td>0</td>\n",
              "      <td>0</td>\n",
              "      <td>0</td>\n",
              "    </tr>\n",
              "    <tr>\n",
              "      <th>3</th>\n",
              "      <td>33</td>\n",
              "      <td>0</td>\n",
              "      <td>Travel_Frequently</td>\n",
              "      <td>Research &amp; Development</td>\n",
              "      <td>3</td>\n",
              "      <td>4</td>\n",
              "      <td>Life Sciences</td>\n",
              "      <td>4</td>\n",
              "      <td>0</td>\n",
              "      <td>3</td>\n",
              "      <td>1</td>\n",
              "      <td>Research Scientist</td>\n",
              "      <td>3</td>\n",
              "      <td>Married</td>\n",
              "      <td>2909</td>\n",
              "      <td>1</td>\n",
              "      <td>1</td>\n",
              "      <td>11</td>\n",
              "      <td>3</td>\n",
              "      <td>3</td>\n",
              "      <td>0</td>\n",
              "      <td>8</td>\n",
              "      <td>3</td>\n",
              "      <td>3</td>\n",
              "      <td>8</td>\n",
              "      <td>7</td>\n",
              "      <td>3</td>\n",
              "      <td>0</td>\n",
              "    </tr>\n",
              "    <tr>\n",
              "      <th>4</th>\n",
              "      <td>27</td>\n",
              "      <td>0</td>\n",
              "      <td>Travel_Rarely</td>\n",
              "      <td>Research &amp; Development</td>\n",
              "      <td>2</td>\n",
              "      <td>1</td>\n",
              "      <td>Medical</td>\n",
              "      <td>1</td>\n",
              "      <td>1</td>\n",
              "      <td>3</td>\n",
              "      <td>1</td>\n",
              "      <td>Laboratory Technician</td>\n",
              "      <td>2</td>\n",
              "      <td>Married</td>\n",
              "      <td>3468</td>\n",
              "      <td>9</td>\n",
              "      <td>0</td>\n",
              "      <td>12</td>\n",
              "      <td>3</td>\n",
              "      <td>4</td>\n",
              "      <td>1</td>\n",
              "      <td>6</td>\n",
              "      <td>3</td>\n",
              "      <td>3</td>\n",
              "      <td>2</td>\n",
              "      <td>2</td>\n",
              "      <td>2</td>\n",
              "      <td>2</td>\n",
              "    </tr>\n",
              "  </tbody>\n",
              "</table>\n",
              "</div>"
            ],
            "text/plain": [
              "   Age  Attrition  ... YearsSinceLastPromotion YearsWithCurrManager\n",
              "0   41          1  ...                       0                    5\n",
              "1   49          0  ...                       1                    7\n",
              "2   37          1  ...                       0                    0\n",
              "3   33          0  ...                       3                    0\n",
              "4   27          0  ...                       2                    2\n",
              "\n",
              "[5 rows x 28 columns]"
            ]
          },
          "metadata": {
            "tags": []
          }
        },
        {
          "output_type": "stream",
          "text": [
            "\n",
            "There are 1470 observations and 28 features\n"
          ],
          "name": "stdout"
        }
      ]
    },
    {
      "cell_type": "markdown",
      "metadata": {
        "id": "nblPhrRXBQSD",
        "colab_type": "text"
      },
      "source": [
        "### One-hot encoding"
      ]
    },
    {
      "cell_type": "code",
      "metadata": {
        "id": "XC2tpI6bei0L",
        "colab_type": "code",
        "outputId": "8530090e-e720-4a12-a8e8-574b585e7fe3",
        "colab": {
          "base_uri": "https://localhost:8080/",
          "height": 241
        }
      },
      "source": [
        "# Encoding categorical variables\n",
        "data = pd.get_dummies(data, columns=None)\n",
        "data.head()"
      ],
      "execution_count": 255,
      "outputs": [
        {
          "output_type": "execute_result",
          "data": {
            "text/html": [
              "<div>\n",
              "<style scoped>\n",
              "    .dataframe tbody tr th:only-of-type {\n",
              "        vertical-align: middle;\n",
              "    }\n",
              "\n",
              "    .dataframe tbody tr th {\n",
              "        vertical-align: top;\n",
              "    }\n",
              "\n",
              "    .dataframe thead th {\n",
              "        text-align: right;\n",
              "    }\n",
              "</style>\n",
              "<table border=\"1\" class=\"dataframe\">\n",
              "  <thead>\n",
              "    <tr style=\"text-align: right;\">\n",
              "      <th></th>\n",
              "      <th>Age</th>\n",
              "      <th>Attrition</th>\n",
              "      <th>DistanceFromHome</th>\n",
              "      <th>Education</th>\n",
              "      <th>EnvironmentSatisfaction</th>\n",
              "      <th>Gender</th>\n",
              "      <th>JobInvolvement</th>\n",
              "      <th>JobLevel</th>\n",
              "      <th>JobSatisfaction</th>\n",
              "      <th>MonthlyIncome</th>\n",
              "      <th>NumCompaniesWorked</th>\n",
              "      <th>OverTime</th>\n",
              "      <th>PercentSalaryHike</th>\n",
              "      <th>PerformanceRating</th>\n",
              "      <th>RelationshipSatisfaction</th>\n",
              "      <th>StockOptionLevel</th>\n",
              "      <th>TotalWorkingYears</th>\n",
              "      <th>TrainingTimesLastYear</th>\n",
              "      <th>WorkLifeBalance</th>\n",
              "      <th>YearsAtCompany</th>\n",
              "      <th>YearsInCurrentRole</th>\n",
              "      <th>YearsSinceLastPromotion</th>\n",
              "      <th>YearsWithCurrManager</th>\n",
              "      <th>BusinessTravel_Non-Travel</th>\n",
              "      <th>BusinessTravel_Travel_Frequently</th>\n",
              "      <th>BusinessTravel_Travel_Rarely</th>\n",
              "      <th>Department_Human Resources</th>\n",
              "      <th>Department_Research &amp; Development</th>\n",
              "      <th>Department_Sales</th>\n",
              "      <th>EducationField_Human Resources</th>\n",
              "      <th>EducationField_Life Sciences</th>\n",
              "      <th>EducationField_Marketing</th>\n",
              "      <th>EducationField_Medical</th>\n",
              "      <th>EducationField_Other</th>\n",
              "      <th>EducationField_Technical Degree</th>\n",
              "      <th>JobRole_Healthcare Representative</th>\n",
              "      <th>JobRole_Human Resources</th>\n",
              "      <th>JobRole_Laboratory Technician</th>\n",
              "      <th>JobRole_Manager</th>\n",
              "      <th>JobRole_Manufacturing Director</th>\n",
              "      <th>JobRole_Research Director</th>\n",
              "      <th>JobRole_Research Scientist</th>\n",
              "      <th>JobRole_Sales Executive</th>\n",
              "      <th>JobRole_Sales Representative</th>\n",
              "      <th>MaritalStatus_Divorced</th>\n",
              "      <th>MaritalStatus_Married</th>\n",
              "      <th>MaritalStatus_Single</th>\n",
              "    </tr>\n",
              "  </thead>\n",
              "  <tbody>\n",
              "    <tr>\n",
              "      <th>0</th>\n",
              "      <td>41</td>\n",
              "      <td>1</td>\n",
              "      <td>1</td>\n",
              "      <td>2</td>\n",
              "      <td>2</td>\n",
              "      <td>0</td>\n",
              "      <td>3</td>\n",
              "      <td>2</td>\n",
              "      <td>4</td>\n",
              "      <td>5993</td>\n",
              "      <td>8</td>\n",
              "      <td>1</td>\n",
              "      <td>11</td>\n",
              "      <td>3</td>\n",
              "      <td>1</td>\n",
              "      <td>0</td>\n",
              "      <td>8</td>\n",
              "      <td>0</td>\n",
              "      <td>1</td>\n",
              "      <td>6</td>\n",
              "      <td>4</td>\n",
              "      <td>0</td>\n",
              "      <td>5</td>\n",
              "      <td>0</td>\n",
              "      <td>0</td>\n",
              "      <td>1</td>\n",
              "      <td>0</td>\n",
              "      <td>0</td>\n",
              "      <td>1</td>\n",
              "      <td>0</td>\n",
              "      <td>1</td>\n",
              "      <td>0</td>\n",
              "      <td>0</td>\n",
              "      <td>0</td>\n",
              "      <td>0</td>\n",
              "      <td>0</td>\n",
              "      <td>0</td>\n",
              "      <td>0</td>\n",
              "      <td>0</td>\n",
              "      <td>0</td>\n",
              "      <td>0</td>\n",
              "      <td>0</td>\n",
              "      <td>1</td>\n",
              "      <td>0</td>\n",
              "      <td>0</td>\n",
              "      <td>0</td>\n",
              "      <td>1</td>\n",
              "    </tr>\n",
              "    <tr>\n",
              "      <th>1</th>\n",
              "      <td>49</td>\n",
              "      <td>0</td>\n",
              "      <td>8</td>\n",
              "      <td>1</td>\n",
              "      <td>3</td>\n",
              "      <td>1</td>\n",
              "      <td>2</td>\n",
              "      <td>2</td>\n",
              "      <td>2</td>\n",
              "      <td>5130</td>\n",
              "      <td>1</td>\n",
              "      <td>0</td>\n",
              "      <td>23</td>\n",
              "      <td>4</td>\n",
              "      <td>4</td>\n",
              "      <td>1</td>\n",
              "      <td>10</td>\n",
              "      <td>3</td>\n",
              "      <td>3</td>\n",
              "      <td>10</td>\n",
              "      <td>7</td>\n",
              "      <td>1</td>\n",
              "      <td>7</td>\n",
              "      <td>0</td>\n",
              "      <td>1</td>\n",
              "      <td>0</td>\n",
              "      <td>0</td>\n",
              "      <td>1</td>\n",
              "      <td>0</td>\n",
              "      <td>0</td>\n",
              "      <td>1</td>\n",
              "      <td>0</td>\n",
              "      <td>0</td>\n",
              "      <td>0</td>\n",
              "      <td>0</td>\n",
              "      <td>0</td>\n",
              "      <td>0</td>\n",
              "      <td>0</td>\n",
              "      <td>0</td>\n",
              "      <td>0</td>\n",
              "      <td>0</td>\n",
              "      <td>1</td>\n",
              "      <td>0</td>\n",
              "      <td>0</td>\n",
              "      <td>0</td>\n",
              "      <td>1</td>\n",
              "      <td>0</td>\n",
              "    </tr>\n",
              "    <tr>\n",
              "      <th>2</th>\n",
              "      <td>37</td>\n",
              "      <td>1</td>\n",
              "      <td>2</td>\n",
              "      <td>2</td>\n",
              "      <td>4</td>\n",
              "      <td>1</td>\n",
              "      <td>2</td>\n",
              "      <td>1</td>\n",
              "      <td>3</td>\n",
              "      <td>2090</td>\n",
              "      <td>6</td>\n",
              "      <td>1</td>\n",
              "      <td>15</td>\n",
              "      <td>3</td>\n",
              "      <td>2</td>\n",
              "      <td>0</td>\n",
              "      <td>7</td>\n",
              "      <td>3</td>\n",
              "      <td>3</td>\n",
              "      <td>0</td>\n",
              "      <td>0</td>\n",
              "      <td>0</td>\n",
              "      <td>0</td>\n",
              "      <td>0</td>\n",
              "      <td>0</td>\n",
              "      <td>1</td>\n",
              "      <td>0</td>\n",
              "      <td>1</td>\n",
              "      <td>0</td>\n",
              "      <td>0</td>\n",
              "      <td>0</td>\n",
              "      <td>0</td>\n",
              "      <td>0</td>\n",
              "      <td>1</td>\n",
              "      <td>0</td>\n",
              "      <td>0</td>\n",
              "      <td>0</td>\n",
              "      <td>1</td>\n",
              "      <td>0</td>\n",
              "      <td>0</td>\n",
              "      <td>0</td>\n",
              "      <td>0</td>\n",
              "      <td>0</td>\n",
              "      <td>0</td>\n",
              "      <td>0</td>\n",
              "      <td>0</td>\n",
              "      <td>1</td>\n",
              "    </tr>\n",
              "    <tr>\n",
              "      <th>3</th>\n",
              "      <td>33</td>\n",
              "      <td>0</td>\n",
              "      <td>3</td>\n",
              "      <td>4</td>\n",
              "      <td>4</td>\n",
              "      <td>0</td>\n",
              "      <td>3</td>\n",
              "      <td>1</td>\n",
              "      <td>3</td>\n",
              "      <td>2909</td>\n",
              "      <td>1</td>\n",
              "      <td>1</td>\n",
              "      <td>11</td>\n",
              "      <td>3</td>\n",
              "      <td>3</td>\n",
              "      <td>0</td>\n",
              "      <td>8</td>\n",
              "      <td>3</td>\n",
              "      <td>3</td>\n",
              "      <td>8</td>\n",
              "      <td>7</td>\n",
              "      <td>3</td>\n",
              "      <td>0</td>\n",
              "      <td>0</td>\n",
              "      <td>1</td>\n",
              "      <td>0</td>\n",
              "      <td>0</td>\n",
              "      <td>1</td>\n",
              "      <td>0</td>\n",
              "      <td>0</td>\n",
              "      <td>1</td>\n",
              "      <td>0</td>\n",
              "      <td>0</td>\n",
              "      <td>0</td>\n",
              "      <td>0</td>\n",
              "      <td>0</td>\n",
              "      <td>0</td>\n",
              "      <td>0</td>\n",
              "      <td>0</td>\n",
              "      <td>0</td>\n",
              "      <td>0</td>\n",
              "      <td>1</td>\n",
              "      <td>0</td>\n",
              "      <td>0</td>\n",
              "      <td>0</td>\n",
              "      <td>1</td>\n",
              "      <td>0</td>\n",
              "    </tr>\n",
              "    <tr>\n",
              "      <th>4</th>\n",
              "      <td>27</td>\n",
              "      <td>0</td>\n",
              "      <td>2</td>\n",
              "      <td>1</td>\n",
              "      <td>1</td>\n",
              "      <td>1</td>\n",
              "      <td>3</td>\n",
              "      <td>1</td>\n",
              "      <td>2</td>\n",
              "      <td>3468</td>\n",
              "      <td>9</td>\n",
              "      <td>0</td>\n",
              "      <td>12</td>\n",
              "      <td>3</td>\n",
              "      <td>4</td>\n",
              "      <td>1</td>\n",
              "      <td>6</td>\n",
              "      <td>3</td>\n",
              "      <td>3</td>\n",
              "      <td>2</td>\n",
              "      <td>2</td>\n",
              "      <td>2</td>\n",
              "      <td>2</td>\n",
              "      <td>0</td>\n",
              "      <td>0</td>\n",
              "      <td>1</td>\n",
              "      <td>0</td>\n",
              "      <td>1</td>\n",
              "      <td>0</td>\n",
              "      <td>0</td>\n",
              "      <td>0</td>\n",
              "      <td>0</td>\n",
              "      <td>1</td>\n",
              "      <td>0</td>\n",
              "      <td>0</td>\n",
              "      <td>0</td>\n",
              "      <td>0</td>\n",
              "      <td>1</td>\n",
              "      <td>0</td>\n",
              "      <td>0</td>\n",
              "      <td>0</td>\n",
              "      <td>0</td>\n",
              "      <td>0</td>\n",
              "      <td>0</td>\n",
              "      <td>0</td>\n",
              "      <td>1</td>\n",
              "      <td>0</td>\n",
              "    </tr>\n",
              "  </tbody>\n",
              "</table>\n",
              "</div>"
            ],
            "text/plain": [
              "   Age  Attrition  ...  MaritalStatus_Married  MaritalStatus_Single\n",
              "0   41          1  ...                      0                     1\n",
              "1   49          0  ...                      1                     0\n",
              "2   37          1  ...                      0                     1\n",
              "3   33          0  ...                      1                     0\n",
              "4   27          0  ...                      1                     0\n",
              "\n",
              "[5 rows x 47 columns]"
            ]
          },
          "metadata": {
            "tags": []
          },
          "execution_count": 255
        }
      ]
    },
    {
      "cell_type": "markdown",
      "metadata": {
        "id": "bLuxSxMABQS8",
        "colab_type": "text"
      },
      "source": [
        "### Standardizing values"
      ]
    },
    {
      "cell_type": "code",
      "metadata": {
        "id": "WFzIf79zBQTS",
        "colab_type": "code",
        "outputId": "a575af38-10b3-48e5-df12-0a896fa9d117",
        "colab": {
          "base_uri": "https://localhost:8080/",
          "height": 241
        }
      },
      "source": [
        "scaler = MinMaxScaler()\n",
        "df = scaler.fit_transform(data.values)\n",
        "scaled = pd.DataFrame(df, columns=data.columns)\n",
        "\n",
        "# There are now 47 features, since we broke down categorical vars\n",
        "scaled.tail()"
      ],
      "execution_count": 256,
      "outputs": [
        {
          "output_type": "execute_result",
          "data": {
            "text/html": [
              "<div>\n",
              "<style scoped>\n",
              "    .dataframe tbody tr th:only-of-type {\n",
              "        vertical-align: middle;\n",
              "    }\n",
              "\n",
              "    .dataframe tbody tr th {\n",
              "        vertical-align: top;\n",
              "    }\n",
              "\n",
              "    .dataframe thead th {\n",
              "        text-align: right;\n",
              "    }\n",
              "</style>\n",
              "<table border=\"1\" class=\"dataframe\">\n",
              "  <thead>\n",
              "    <tr style=\"text-align: right;\">\n",
              "      <th></th>\n",
              "      <th>Age</th>\n",
              "      <th>Attrition</th>\n",
              "      <th>DistanceFromHome</th>\n",
              "      <th>Education</th>\n",
              "      <th>EnvironmentSatisfaction</th>\n",
              "      <th>Gender</th>\n",
              "      <th>JobInvolvement</th>\n",
              "      <th>JobLevel</th>\n",
              "      <th>JobSatisfaction</th>\n",
              "      <th>MonthlyIncome</th>\n",
              "      <th>NumCompaniesWorked</th>\n",
              "      <th>OverTime</th>\n",
              "      <th>PercentSalaryHike</th>\n",
              "      <th>PerformanceRating</th>\n",
              "      <th>RelationshipSatisfaction</th>\n",
              "      <th>StockOptionLevel</th>\n",
              "      <th>TotalWorkingYears</th>\n",
              "      <th>TrainingTimesLastYear</th>\n",
              "      <th>WorkLifeBalance</th>\n",
              "      <th>YearsAtCompany</th>\n",
              "      <th>YearsInCurrentRole</th>\n",
              "      <th>YearsSinceLastPromotion</th>\n",
              "      <th>YearsWithCurrManager</th>\n",
              "      <th>BusinessTravel_Non-Travel</th>\n",
              "      <th>BusinessTravel_Travel_Frequently</th>\n",
              "      <th>BusinessTravel_Travel_Rarely</th>\n",
              "      <th>Department_Human Resources</th>\n",
              "      <th>Department_Research &amp; Development</th>\n",
              "      <th>Department_Sales</th>\n",
              "      <th>EducationField_Human Resources</th>\n",
              "      <th>EducationField_Life Sciences</th>\n",
              "      <th>EducationField_Marketing</th>\n",
              "      <th>EducationField_Medical</th>\n",
              "      <th>EducationField_Other</th>\n",
              "      <th>EducationField_Technical Degree</th>\n",
              "      <th>JobRole_Healthcare Representative</th>\n",
              "      <th>JobRole_Human Resources</th>\n",
              "      <th>JobRole_Laboratory Technician</th>\n",
              "      <th>JobRole_Manager</th>\n",
              "      <th>JobRole_Manufacturing Director</th>\n",
              "      <th>JobRole_Research Director</th>\n",
              "      <th>JobRole_Research Scientist</th>\n",
              "      <th>JobRole_Sales Executive</th>\n",
              "      <th>JobRole_Sales Representative</th>\n",
              "      <th>MaritalStatus_Divorced</th>\n",
              "      <th>MaritalStatus_Married</th>\n",
              "      <th>MaritalStatus_Single</th>\n",
              "    </tr>\n",
              "  </thead>\n",
              "  <tbody>\n",
              "    <tr>\n",
              "      <th>1465</th>\n",
              "      <td>0.428571</td>\n",
              "      <td>0.0</td>\n",
              "      <td>0.785714</td>\n",
              "      <td>0.25</td>\n",
              "      <td>0.666667</td>\n",
              "      <td>1.0</td>\n",
              "      <td>1.000000</td>\n",
              "      <td>0.25</td>\n",
              "      <td>1.000000</td>\n",
              "      <td>0.082254</td>\n",
              "      <td>0.444444</td>\n",
              "      <td>0.0</td>\n",
              "      <td>0.428571</td>\n",
              "      <td>0.0</td>\n",
              "      <td>0.666667</td>\n",
              "      <td>0.333333</td>\n",
              "      <td>0.425</td>\n",
              "      <td>0.500000</td>\n",
              "      <td>0.666667</td>\n",
              "      <td>0.125</td>\n",
              "      <td>0.111111</td>\n",
              "      <td>0.000000</td>\n",
              "      <td>0.176471</td>\n",
              "      <td>0.0</td>\n",
              "      <td>1.0</td>\n",
              "      <td>0.0</td>\n",
              "      <td>0.0</td>\n",
              "      <td>1.0</td>\n",
              "      <td>0.0</td>\n",
              "      <td>0.0</td>\n",
              "      <td>0.0</td>\n",
              "      <td>0.0</td>\n",
              "      <td>1.0</td>\n",
              "      <td>0.0</td>\n",
              "      <td>0.0</td>\n",
              "      <td>0.0</td>\n",
              "      <td>0.0</td>\n",
              "      <td>1.0</td>\n",
              "      <td>0.0</td>\n",
              "      <td>0.0</td>\n",
              "      <td>0.0</td>\n",
              "      <td>0.0</td>\n",
              "      <td>0.0</td>\n",
              "      <td>0.0</td>\n",
              "      <td>0.0</td>\n",
              "      <td>1.0</td>\n",
              "      <td>0.0</td>\n",
              "    </tr>\n",
              "    <tr>\n",
              "      <th>1466</th>\n",
              "      <td>0.500000</td>\n",
              "      <td>0.0</td>\n",
              "      <td>0.178571</td>\n",
              "      <td>0.00</td>\n",
              "      <td>1.000000</td>\n",
              "      <td>1.0</td>\n",
              "      <td>0.333333</td>\n",
              "      <td>0.50</td>\n",
              "      <td>0.000000</td>\n",
              "      <td>0.472986</td>\n",
              "      <td>0.444444</td>\n",
              "      <td>0.0</td>\n",
              "      <td>0.285714</td>\n",
              "      <td>0.0</td>\n",
              "      <td>0.000000</td>\n",
              "      <td>0.333333</td>\n",
              "      <td>0.225</td>\n",
              "      <td>0.833333</td>\n",
              "      <td>0.666667</td>\n",
              "      <td>0.175</td>\n",
              "      <td>0.388889</td>\n",
              "      <td>0.066667</td>\n",
              "      <td>0.411765</td>\n",
              "      <td>0.0</td>\n",
              "      <td>0.0</td>\n",
              "      <td>1.0</td>\n",
              "      <td>0.0</td>\n",
              "      <td>1.0</td>\n",
              "      <td>0.0</td>\n",
              "      <td>0.0</td>\n",
              "      <td>0.0</td>\n",
              "      <td>0.0</td>\n",
              "      <td>1.0</td>\n",
              "      <td>0.0</td>\n",
              "      <td>0.0</td>\n",
              "      <td>1.0</td>\n",
              "      <td>0.0</td>\n",
              "      <td>0.0</td>\n",
              "      <td>0.0</td>\n",
              "      <td>0.0</td>\n",
              "      <td>0.0</td>\n",
              "      <td>0.0</td>\n",
              "      <td>0.0</td>\n",
              "      <td>0.0</td>\n",
              "      <td>0.0</td>\n",
              "      <td>1.0</td>\n",
              "      <td>0.0</td>\n",
              "    </tr>\n",
              "    <tr>\n",
              "      <th>1467</th>\n",
              "      <td>0.214286</td>\n",
              "      <td>0.0</td>\n",
              "      <td>0.107143</td>\n",
              "      <td>0.50</td>\n",
              "      <td>0.333333</td>\n",
              "      <td>1.0</td>\n",
              "      <td>1.000000</td>\n",
              "      <td>0.25</td>\n",
              "      <td>0.333333</td>\n",
              "      <td>0.270300</td>\n",
              "      <td>0.111111</td>\n",
              "      <td>1.0</td>\n",
              "      <td>0.642857</td>\n",
              "      <td>1.0</td>\n",
              "      <td>0.333333</td>\n",
              "      <td>0.333333</td>\n",
              "      <td>0.150</td>\n",
              "      <td>0.000000</td>\n",
              "      <td>0.666667</td>\n",
              "      <td>0.150</td>\n",
              "      <td>0.111111</td>\n",
              "      <td>0.000000</td>\n",
              "      <td>0.176471</td>\n",
              "      <td>0.0</td>\n",
              "      <td>0.0</td>\n",
              "      <td>1.0</td>\n",
              "      <td>0.0</td>\n",
              "      <td>1.0</td>\n",
              "      <td>0.0</td>\n",
              "      <td>0.0</td>\n",
              "      <td>1.0</td>\n",
              "      <td>0.0</td>\n",
              "      <td>0.0</td>\n",
              "      <td>0.0</td>\n",
              "      <td>0.0</td>\n",
              "      <td>0.0</td>\n",
              "      <td>0.0</td>\n",
              "      <td>0.0</td>\n",
              "      <td>0.0</td>\n",
              "      <td>1.0</td>\n",
              "      <td>0.0</td>\n",
              "      <td>0.0</td>\n",
              "      <td>0.0</td>\n",
              "      <td>0.0</td>\n",
              "      <td>0.0</td>\n",
              "      <td>1.0</td>\n",
              "      <td>0.0</td>\n",
              "    </tr>\n",
              "    <tr>\n",
              "      <th>1468</th>\n",
              "      <td>0.738095</td>\n",
              "      <td>0.0</td>\n",
              "      <td>0.035714</td>\n",
              "      <td>0.50</td>\n",
              "      <td>1.000000</td>\n",
              "      <td>1.0</td>\n",
              "      <td>0.333333</td>\n",
              "      <td>0.25</td>\n",
              "      <td>0.333333</td>\n",
              "      <td>0.230700</td>\n",
              "      <td>0.222222</td>\n",
              "      <td>0.0</td>\n",
              "      <td>0.214286</td>\n",
              "      <td>0.0</td>\n",
              "      <td>1.000000</td>\n",
              "      <td>0.000000</td>\n",
              "      <td>0.425</td>\n",
              "      <td>0.500000</td>\n",
              "      <td>0.333333</td>\n",
              "      <td>0.225</td>\n",
              "      <td>0.333333</td>\n",
              "      <td>0.000000</td>\n",
              "      <td>0.470588</td>\n",
              "      <td>0.0</td>\n",
              "      <td>1.0</td>\n",
              "      <td>0.0</td>\n",
              "      <td>0.0</td>\n",
              "      <td>0.0</td>\n",
              "      <td>1.0</td>\n",
              "      <td>0.0</td>\n",
              "      <td>0.0</td>\n",
              "      <td>0.0</td>\n",
              "      <td>1.0</td>\n",
              "      <td>0.0</td>\n",
              "      <td>0.0</td>\n",
              "      <td>0.0</td>\n",
              "      <td>0.0</td>\n",
              "      <td>0.0</td>\n",
              "      <td>0.0</td>\n",
              "      <td>0.0</td>\n",
              "      <td>0.0</td>\n",
              "      <td>0.0</td>\n",
              "      <td>1.0</td>\n",
              "      <td>0.0</td>\n",
              "      <td>0.0</td>\n",
              "      <td>1.0</td>\n",
              "      <td>0.0</td>\n",
              "    </tr>\n",
              "    <tr>\n",
              "      <th>1469</th>\n",
              "      <td>0.380952</td>\n",
              "      <td>0.0</td>\n",
              "      <td>0.250000</td>\n",
              "      <td>0.50</td>\n",
              "      <td>0.333333</td>\n",
              "      <td>1.0</td>\n",
              "      <td>1.000000</td>\n",
              "      <td>0.25</td>\n",
              "      <td>0.666667</td>\n",
              "      <td>0.178778</td>\n",
              "      <td>0.222222</td>\n",
              "      <td>0.0</td>\n",
              "      <td>0.071429</td>\n",
              "      <td>0.0</td>\n",
              "      <td>0.000000</td>\n",
              "      <td>0.000000</td>\n",
              "      <td>0.150</td>\n",
              "      <td>0.500000</td>\n",
              "      <td>1.000000</td>\n",
              "      <td>0.100</td>\n",
              "      <td>0.166667</td>\n",
              "      <td>0.066667</td>\n",
              "      <td>0.117647</td>\n",
              "      <td>0.0</td>\n",
              "      <td>0.0</td>\n",
              "      <td>1.0</td>\n",
              "      <td>0.0</td>\n",
              "      <td>1.0</td>\n",
              "      <td>0.0</td>\n",
              "      <td>0.0</td>\n",
              "      <td>0.0</td>\n",
              "      <td>0.0</td>\n",
              "      <td>1.0</td>\n",
              "      <td>0.0</td>\n",
              "      <td>0.0</td>\n",
              "      <td>0.0</td>\n",
              "      <td>0.0</td>\n",
              "      <td>1.0</td>\n",
              "      <td>0.0</td>\n",
              "      <td>0.0</td>\n",
              "      <td>0.0</td>\n",
              "      <td>0.0</td>\n",
              "      <td>0.0</td>\n",
              "      <td>0.0</td>\n",
              "      <td>0.0</td>\n",
              "      <td>1.0</td>\n",
              "      <td>0.0</td>\n",
              "    </tr>\n",
              "  </tbody>\n",
              "</table>\n",
              "</div>"
            ],
            "text/plain": [
              "           Age  Attrition  ...  MaritalStatus_Married  MaritalStatus_Single\n",
              "1465  0.428571        0.0  ...                    1.0                   0.0\n",
              "1466  0.500000        0.0  ...                    1.0                   0.0\n",
              "1467  0.214286        0.0  ...                    1.0                   0.0\n",
              "1468  0.738095        0.0  ...                    1.0                   0.0\n",
              "1469  0.380952        0.0  ...                    1.0                   0.0\n",
              "\n",
              "[5 rows x 47 columns]"
            ]
          },
          "metadata": {
            "tags": []
          },
          "execution_count": 256
        }
      ]
    },
    {
      "cell_type": "markdown",
      "metadata": {
        "id": "a7OGDFyE5vJJ",
        "colab_type": "text"
      },
      "source": [
        "### Checking data imbalance"
      ]
    },
    {
      "cell_type": "code",
      "metadata": {
        "id": "xnV5SNr5BQVD",
        "colab_type": "code",
        "outputId": "012a52b6-fae8-4425-96dd-1da47e144471",
        "colab": {
          "base_uri": "https://localhost:8080/",
          "height": 295
        }
      },
      "source": [
        "sns.countplot(x=data['Attrition'])\n",
        "plt.title('Data count by target variable Y (Attrition)')\n",
        "plt.show()"
      ],
      "execution_count": 257,
      "outputs": [
        {
          "output_type": "display_data",
          "data": {
            "image/png": "[encoded data removed]",
            "text/plain": [
              "<Figure size 432x288 with 1 Axes>"
            ]
          },
          "metadata": {
            "tags": [],
            "needs_background": "light"
          }
        }
      ]
    },
    {
      "cell_type": "code",
      "metadata": {
        "id": "ZXEy6EfkKV-Q",
        "colab_type": "code",
        "outputId": "d9bc3688-c68d-477a-bb6d-ff46f6525e81",
        "colab": {
          "base_uri": "https://localhost:8080/",
          "height": 68
        }
      },
      "source": [
        "# Samples where target var = 1 \n",
        "a_1s = data[data.Attrition == 1]\n",
        "\n",
        "print(\"Percentage of 1s: {0:.0%}\".format(round(a_1s.shape[0]/data.shape[0], 2)))\n",
        "print('Total Attrition = 1:', a_1s.shape[0])\n",
        "print('Total samples:', data.shape[0])"
      ],
      "execution_count": 258,
      "outputs": [
        {
          "output_type": "stream",
          "text": [
            "Percentage of 1s: 16%\n",
            "Total Attrition = 1: 237\n",
            "Total samples: 1470\n"
          ],
          "name": "stdout"
        }
      ]
    },
    {
      "cell_type": "markdown",
      "metadata": {
        "id": "xmvR7IH8BQUD",
        "colab_type": "text"
      },
      "source": [
        "### Train-Test Split\n",
        "\n",
        "Splitting the data into the training and test set, with the test set being 25% of the data.Set stratify to the same as your y (which is attrition in this case). Stratify makes sure the % of the 0s and 1s are the same in the training and the test sets."
      ]
    },
    {
      "cell_type": "code",
      "metadata": {
        "id": "MR5CqtmHBQUE",
        "colab_type": "code",
        "colab": {}
      },
      "source": [
        "attrition = data['Attrition']\n",
        "scaled_df = scaled.drop(columns=['Attrition'])\n",
        "\n",
        "x_train, x_test, y_train, y_test = train_test_split(scaled_df,\n",
        "                                                    attrition,\n",
        "                                                    test_size=0.25,\n",
        "                                                    random_state=1,\n",
        "                                                    stratify=attrition)"
      ],
      "execution_count": 0,
      "outputs": []
    },
    {
      "cell_type": "code",
      "metadata": {
        "id": "8tLYMkKY4hkf",
        "colab_type": "code",
        "outputId": "da5a1fcc-935e-4d60-c240-5f0e62d01c8d",
        "colab": {
          "base_uri": "https://localhost:8080/",
          "height": 85
        }
      },
      "source": [
        "# Checking that the training and the testing data sets are of intended form\n",
        "# The x and y training sets and x and y testing sets should be of the same\n",
        "# length. The x training and test sets and the y training and test sets should\n",
        "# be of the same length as well.\n",
        "\n",
        "print('X train set shape:', x_train.shape)\n",
        "print('Y train set shape:', y_train.shape)\n",
        "print('X test set shape:', x_test.shape)\n",
        "print('Y test set shape:', y_test.shape)"
      ],
      "execution_count": 260,
      "outputs": [
        {
          "output_type": "stream",
          "text": [
            "X train set shape: (1102, 46)\n",
            "Y train set shape: (1102,)\n",
            "X test set shape: (368, 46)\n",
            "Y test set shape: (368,)\n"
          ],
          "name": "stdout"
        }
      ]
    },
    {
      "cell_type": "markdown",
      "metadata": {
        "id": "gQU52SHzBQUV",
        "colab_type": "text"
      },
      "source": [
        "### Basic Model Implementation & Evaluation"
      ]
    },
    {
      "cell_type": "code",
      "metadata": {
        "id": "XlUK-X7HdkRU",
        "colab_type": "code",
        "outputId": "4d9b20c8-934b-46ba-b63a-de511ecc7ab3",
        "colab": {
          "base_uri": "https://localhost:8080/",
          "height": 34
        }
      },
      "source": [
        "#Decision tree model \n",
        "dt_model = DecisionTreeClassifier(class_weight='balanced')\n",
        "dt_model.fit(x_train,y_train)\n",
        "\n",
        "#XGBoost\n",
        "xgb_model = XGBClassifier()\n",
        "xgb_model.fit(x_train,y_train)\n",
        "\n",
        "#Logistic Regression\n",
        "lr_model = LogisticRegression()\n",
        "lr_model.fit(x_train,y_train)\n",
        "\n",
        "print()"
      ],
      "execution_count": 261,
      "outputs": [
        {
          "output_type": "stream",
          "text": [
            "\n"
          ],
          "name": "stdout"
        }
      ]
    },
    {
      "cell_type": "code",
      "metadata": {
        "id": "6zJxVIN-f7k3",
        "colab_type": "code",
        "colab": {}
      },
      "source": [
        "def cross_val(model, scoring, x_test, y_test):\n",
        "  cv = RepeatedStratifiedKFold(n_splits=5, n_repeats=3, random_state=1)\n",
        "  scores = cross_val_score(model, x_test, y_test, scoring=scoring, cv=cv, n_jobs=-1)\n",
        "  return np.mean(scores)\n",
        "\n",
        "def results(model, name, x_test, y_test, verbose=True):\n",
        "  scorers_lst = ['recall', 'precision', 'f1']\n",
        "\n",
        "  scores = [] # cross validated scores on three metrics\n",
        "  for i in scorers_lst:\n",
        "    scores.append(cross_val(model, i, x_test, y_test))\n",
        "  \n",
        "  if verbose:\n",
        "    print('Recall for', name, round(scores[0], 4))\n",
        "    print('Precision for', name, round(scores[1], 4))\n",
        "    print('F1 for', name, round(scores[2], 4))\n",
        "    print()\n",
        "  else:\n",
        "    return scores"
      ],
      "execution_count": 0,
      "outputs": []
    },
    {
      "cell_type": "code",
      "metadata": {
        "id": "b9ZqSzvmjJ22",
        "colab_type": "code",
        "colab": {
          "base_uri": "https://localhost:8080/",
          "height": 221
        },
        "outputId": "36af21b4-690d-4d08-8ba2-c3d5465bb5f0"
      },
      "source": [
        "models = {'Decision Tree': dt_model,\n",
        "          'XGBoost': xgb_model,\n",
        "          'Logistic Regression': lr_model}\n",
        "\n",
        "for key in models:\n",
        "  results(models[key], key, x_test, y_test)"
      ],
      "execution_count": 265,
      "outputs": [
        {
          "output_type": "stream",
          "text": [
            "Recall for Decision Tree 0.3601\n",
            "Precision for Decision Tree 0.382\n",
            "F1 for Decision Tree 0.3585\n",
            "\n",
            "Recall for XGBoost 0.3449\n",
            "Precision for XGBoost 0.6346\n",
            "F1 for XGBoost 0.4311\n",
            "\n",
            "Recall for Logistic Regression 0.3616\n",
            "Precision for Logistic Regression 0.7039\n",
            "F1 for Logistic Regression 0.4601\n",
            "\n"
          ],
          "name": "stdout"
        }
      ]
    },
    {
      "cell_type": "markdown",
      "metadata": {
        "id": "Hdt3qfy0vpvR",
        "colab_type": "text"
      },
      "source": [
        "### Hyperparameter Tuning"
      ]
    },
    {
      "cell_type": "code",
      "metadata": {
        "id": "cVQ0JLlpcf2P",
        "colab_type": "code",
        "colab": {}
      },
      "source": [
        "# Adopted the wrapper function from Arvai, K. (2018)\n",
        "\n",
        "scorers = {\n",
        "    'precision_score': make_scorer(precision_score),\n",
        "    'recall_score': make_scorer(recall_score),\n",
        "    'accuracy_score': make_scorer(accuracy_score)\n",
        "}\n",
        "\n",
        "def grid_search_wrapper(refit_score='recall_score', clf=None, grid=None):\n",
        "\n",
        "    \"\"\"\n",
        "    Fits a GridSearchCV classifier using refit_score for optimization.\n",
        "    Prints classifier performance metrics.\n",
        "    \"\"\"\n",
        "    \n",
        "    # Applying k-fold to GridSearch\n",
        "    skf = StratifiedKFold(n_splits=10)\n",
        "    grid_search = GridSearchCV(clf, grid, scoring=scorers, refit=refit_score,\n",
        "                           cv=skf, return_train_score=True, n_jobs=-1)\n",
        "    grid_search.fit(x_train.values, y_train.values)\n",
        "\n",
        "    # make the predictions\n",
        "    y_pred = grid_search.predict(x_test.values)\n",
        "\n",
        "    print('Best params for {}'.format(refit_score))\n",
        "    print(grid_search.best_params_)\n",
        "\n",
        "    # confusion matrix on the test data\n",
        "    print('\\nConfusion matrix of DT optimized for {} on the test data:'.format(refit_score))\n",
        "    print(pd.DataFrame(confusion_matrix(y_test, y_pred),\n",
        "                 columns=['pred_neg', 'pred_pos'], index=['neg', 'pos']))\n",
        "    return grid_search"
      ],
      "execution_count": 0,
      "outputs": []
    },
    {
      "cell_type": "markdown",
      "metadata": {
        "id": "jSkYlFeqyTET",
        "colab_type": "text"
      },
      "source": [
        "#### Decision Tree"
      ]
    },
    {
      "cell_type": "code",
      "metadata": {
        "id": "tb7XDhtgyRv9",
        "colab_type": "code",
        "outputId": "92e38635-a549-4db7-8ce3-5d048bebd8b2",
        "colab": {
          "base_uri": "https://localhost:8080/",
          "height": 289
        }
      },
      "source": [
        "print('Current Deciscion Tree parameters:\\n')\n",
        "pprint(dt_model.get_params())"
      ],
      "execution_count": 267,
      "outputs": [
        {
          "output_type": "stream",
          "text": [
            "Current Deciscion Tree parameters:\n",
            "\n",
            "{'ccp_alpha': 0.0,\n",
            " 'class_weight': 'balanced',\n",
            " 'criterion': 'gini',\n",
            " 'max_depth': None,\n",
            " 'max_features': None,\n",
            " 'max_leaf_nodes': None,\n",
            " 'min_impurity_decrease': 0.0,\n",
            " 'min_impurity_split': None,\n",
            " 'min_samples_leaf': 1,\n",
            " 'min_samples_split': 2,\n",
            " 'min_weight_fraction_leaf': 0.0,\n",
            " 'presort': 'deprecated',\n",
            " 'random_state': None,\n",
            " 'splitter': 'best'}\n"
          ],
          "name": "stdout"
        }
      ]
    },
    {
      "cell_type": "code",
      "metadata": {
        "id": "pNDBashJc21R",
        "colab_type": "code",
        "outputId": "f34ca5f2-98c0-4fcf-85da-d967509a3346",
        "colab": {
          "base_uri": "https://localhost:8080/",
          "height": 136
        }
      },
      "source": [
        "# Please refer to the DecisionTreeClassifier() documentation\n",
        "# for the details regarding each parameter\n",
        "\n",
        "dt_param_grid = {'criterion': ['gini', 'entropy'],\n",
        "           'max_features': ['auto', 'sqrt', 'log2'],\n",
        "           'max_depth': [int(x) for x in np.linspace(10, 110, num = 11)],\n",
        "           'min_samples_split': [2, 5],\n",
        "           'min_samples_leaf': [1, 2],\n",
        "           'random_state': [0]\n",
        "}\n",
        "\n",
        "grid_search_dt = grid_search_wrapper(refit_score='recall_score',\n",
        "                                      grid=dt_param_grid, clf=dt_model)"
      ],
      "execution_count": 268,
      "outputs": [
        {
          "output_type": "stream",
          "text": [
            "Best params for recall_score\n",
            "{'criterion': 'entropy', 'max_depth': 10, 'max_features': 'log2', 'min_samples_leaf': 2, 'min_samples_split': 2, 'random_state': 0}\n",
            "\n",
            "Confusion matrix of DT optimized for recall_score on the test data:\n",
            "     pred_neg  pred_pos\n",
            "neg       234        75\n",
            "pos        29        30\n"
          ],
          "name": "stdout"
        }
      ]
    },
    {
      "cell_type": "markdown",
      "metadata": {
        "id": "2K3lAGH2iDCH",
        "colab_type": "text"
      },
      "source": [
        "#### XGBoost"
      ]
    },
    {
      "cell_type": "code",
      "metadata": {
        "id": "tbAGmAYThxRT",
        "colab_type": "code",
        "outputId": "7738d918-0679-4897-fa81-551e54c8f2d5",
        "colab": {
          "base_uri": "https://localhost:8080/",
          "height": 442
        }
      },
      "source": [
        "print('Current XGBoost parameters:\\n')\n",
        "pprint(xgb_model.get_params())"
      ],
      "execution_count": 269,
      "outputs": [
        {
          "output_type": "stream",
          "text": [
            "Current XGBoost parameters:\n",
            "\n",
            "{'base_score': 0.5,\n",
            " 'booster': 'gbtree',\n",
            " 'colsample_bylevel': 1,\n",
            " 'colsample_bynode': 1,\n",
            " 'colsample_bytree': 1,\n",
            " 'gamma': 0,\n",
            " 'learning_rate': 0.1,\n",
            " 'max_delta_step': 0,\n",
            " 'max_depth': 3,\n",
            " 'min_child_weight': 1,\n",
            " 'missing': None,\n",
            " 'n_estimators': 100,\n",
            " 'n_jobs': 1,\n",
            " 'nthread': None,\n",
            " 'objective': 'binary:logistic',\n",
            " 'random_state': 0,\n",
            " 'reg_alpha': 0,\n",
            " 'reg_lambda': 1,\n",
            " 'scale_pos_weight': 1,\n",
            " 'seed': None,\n",
            " 'silent': None,\n",
            " 'subsample': 1,\n",
            " 'verbosity': 1}\n"
          ],
          "name": "stdout"
        }
      ]
    },
    {
      "cell_type": "code",
      "metadata": {
        "id": "B0xGLsiOj1ys",
        "colab_type": "code",
        "outputId": "5747c0db-721c-4c5c-9a2d-b70fc006d41b",
        "colab": {
          "base_uri": "https://localhost:8080/",
          "height": 136
        }
      },
      "source": [
        "# Please refer to the XGBClassifier() documentation\n",
        "# for the details regarding each parameter\n",
        "\n",
        "xgb_param_grid = {'n_estimators': [100, 200],\n",
        "                  'booster': ['gbtree', 'dart'],\n",
        "                  'learning_rate': [0.25, 0.3, 0.35, 0.4] ,\n",
        "                  'max_depth': [3, 4],\n",
        "                  'gamma': [0.0, 0.1],\n",
        "                  'colsample_bytree': [0.4]}\n",
        "\n",
        "grid_search_xgb = grid_search_wrapper(refit_score='recall_score',\n",
        "                                        grid=xgb_param_grid, clf=xgb_model)"
      ],
      "execution_count": 270,
      "outputs": [
        {
          "output_type": "stream",
          "text": [
            "Best params for recall_score\n",
            "{'booster': 'gbtree', 'colsample_bytree': 0.4, 'gamma': 0.1, 'learning_rate': 0.4, 'max_depth': 3, 'n_estimators': 200}\n",
            "\n",
            "Confusion matrix of DT optimized for recall_score on the test data:\n",
            "     pred_neg  pred_pos\n",
            "neg       282        27\n",
            "pos        29        30\n"
          ],
          "name": "stdout"
        }
      ]
    },
    {
      "cell_type": "markdown",
      "metadata": {
        "id": "0kDKeEjxmDok",
        "colab_type": "text"
      },
      "source": [
        "#### Logistic Regression"
      ]
    },
    {
      "cell_type": "code",
      "metadata": {
        "id": "VniSff2Cl-Je",
        "colab_type": "code",
        "outputId": "ae678951-a554-459d-fda9-a2147746ed84",
        "colab": {
          "base_uri": "https://localhost:8080/",
          "height": 306
        }
      },
      "source": [
        "print('Current Logistic Regression parameters:\\n')\n",
        "pprint(lr_model.get_params())"
      ],
      "execution_count": 271,
      "outputs": [
        {
          "output_type": "stream",
          "text": [
            "Current Logistic Regression parameters:\n",
            "\n",
            "{'C': 1.0,\n",
            " 'class_weight': None,\n",
            " 'dual': False,\n",
            " 'fit_intercept': True,\n",
            " 'intercept_scaling': 1,\n",
            " 'l1_ratio': None,\n",
            " 'max_iter': 100,\n",
            " 'multi_class': 'auto',\n",
            " 'n_jobs': None,\n",
            " 'penalty': 'l2',\n",
            " 'random_state': None,\n",
            " 'solver': 'lbfgs',\n",
            " 'tol': 0.0001,\n",
            " 'verbose': 0,\n",
            " 'warm_start': False}\n"
          ],
          "name": "stdout"
        }
      ]
    },
    {
      "cell_type": "code",
      "metadata": {
        "id": "TAwvI2CbmrIF",
        "colab_type": "code",
        "outputId": "9ea95288-23cb-4173-f871-857b3b0aa84f",
        "colab": {
          "base_uri": "https://localhost:8080/",
          "height": 136
        }
      },
      "source": [
        "# Please refer to the XGBClassifier() documentation\n",
        "# for the details regarding each parameter\n",
        "\n",
        "lr_param_grid = {'C': [0.1, 1, 10],\n",
        "                  'penalty': ['l1', 'l2', 'elasticnet'],\n",
        "                  'solver': ['newton-cg', 'lbfgs', 'liblinear', 'sag', 'saga'],\n",
        "                  'max_iter': [300, 500, 700],\n",
        "                 'random_state': [0]\n",
        "}\n",
        "\n",
        "grid_search_lr = grid_search_wrapper(refit_score='recall_score',\n",
        "                                        grid=lr_param_grid, clf=lr_model)"
      ],
      "execution_count": 272,
      "outputs": [
        {
          "output_type": "stream",
          "text": [
            "Best params for recall_score\n",
            "{'C': 10, 'max_iter': 300, 'penalty': 'l1', 'random_state': 0, 'solver': 'liblinear'}\n",
            "\n",
            "Confusion matrix of DT optimized for recall_score on the test data:\n",
            "     pred_neg  pred_pos\n",
            "neg       293        16\n",
            "pos        30        29\n"
          ],
          "name": "stdout"
        }
      ]
    },
    {
      "cell_type": "markdown",
      "metadata": {
        "id": "hOxtJ35XzwMP",
        "colab_type": "text"
      },
      "source": [
        "### Hyperparameter Tuning Results"
      ]
    },
    {
      "cell_type": "code",
      "metadata": {
        "id": "AiwlpxWTzP4V",
        "colab_type": "code",
        "colab": {}
      },
      "source": [
        "# Parameters to be printed in the Results table for each tuned model \n",
        "\n",
        "tuned_params = {'Decision Tree': (grid_search_dt, ['mean_test_precision_score',\n",
        "                                  'mean_test_recall_score', 'mean_test_accuracy_score',\n",
        "                                  'param_criterion', 'param_max_depth',\n",
        "                                  'param_max_features', 'param_min_samples_split',\n",
        "                                  'param_min_samples_leaf']),\n",
        "                'XGBoost': (grid_search_xgb, ['mean_test_precision_score',\n",
        "                            'mean_test_recall_score', 'mean_test_accuracy_score',\n",
        "                            'param_booster', 'param_gamma', 'param_learning_rate',\n",
        "                            'param_max_depth', 'param_n_estimators']),\n",
        "                'Logistic Regression': (grid_search_lr, ['mean_test_precision_score',\n",
        "                                        'mean_test_recall_score','mean_test_accuracy_score',\n",
        "                                        'param_C', 'param_penalty','param_solver',\n",
        "                                        'param_max_iter'])}"
      ],
      "execution_count": 0,
      "outputs": []
    },
    {
      "cell_type": "code",
      "metadata": {
        "id": "mwI9439Tzu6k",
        "colab_type": "code",
        "colab": {}
      },
      "source": [
        "def tuning_res(wrapper_res, params):\n",
        "  res = pd.DataFrame(wrapper_res.cv_results_)\n",
        "  res = res.sort_values(by='mean_test_recall_score', ascending=False)\n",
        "  display(res[params].round(3).head(3))"
      ],
      "execution_count": 0,
      "outputs": []
    },
    {
      "cell_type": "code",
      "metadata": {
        "id": "JQP85o-szIMH",
        "colab_type": "code",
        "outputId": "d739e28c-0804-460a-a08a-2699fef238c4",
        "colab": {
          "base_uri": "https://localhost:8080/",
          "height": 514
        }
      },
      "source": [
        "for key in tuned_params:\n",
        "  print('Top 3 Optimal Parameter Combinations for', key)\n",
        "  tuning_res(tuned_params[key][0], tuned_params[key][1])\n",
        "  print()"
      ],
      "execution_count": 276,
      "outputs": [
        {
          "output_type": "stream",
          "text": [
            "Top 3 Optimal Parameter Combinations for Decision Tree\n"
          ],
          "name": "stdout"
        },
        {
          "output_type": "display_data",
          "data": {
            "text/html": [
              "<div>\n",
              "<style scoped>\n",
              "    .dataframe tbody tr th:only-of-type {\n",
              "        vertical-align: middle;\n",
              "    }\n",
              "\n",
              "    .dataframe tbody tr th {\n",
              "        vertical-align: top;\n",
              "    }\n",
              "\n",
              "    .dataframe thead th {\n",
              "        text-align: right;\n",
              "    }\n",
              "</style>\n",
              "<table border=\"1\" class=\"dataframe\">\n",
              "  <thead>\n",
              "    <tr style=\"text-align: right;\">\n",
              "      <th></th>\n",
              "      <th>mean_test_precision_score</th>\n",
              "      <th>mean_test_recall_score</th>\n",
              "      <th>mean_test_accuracy_score</th>\n",
              "      <th>param_criterion</th>\n",
              "      <th>param_max_depth</th>\n",
              "      <th>param_max_features</th>\n",
              "      <th>param_min_samples_split</th>\n",
              "      <th>param_min_samples_leaf</th>\n",
              "    </tr>\n",
              "  </thead>\n",
              "  <tbody>\n",
              "    <tr>\n",
              "      <th>142</th>\n",
              "      <td>0.280</td>\n",
              "      <td>0.465</td>\n",
              "      <td>0.711</td>\n",
              "      <td>entropy</td>\n",
              "      <td>10</td>\n",
              "      <td>log2</td>\n",
              "      <td>2</td>\n",
              "      <td>2</td>\n",
              "    </tr>\n",
              "    <tr>\n",
              "      <th>11</th>\n",
              "      <td>0.268</td>\n",
              "      <td>0.454</td>\n",
              "      <td>0.706</td>\n",
              "      <td>gini</td>\n",
              "      <td>10</td>\n",
              "      <td>log2</td>\n",
              "      <td>5</td>\n",
              "      <td>2</td>\n",
              "    </tr>\n",
              "    <tr>\n",
              "      <th>143</th>\n",
              "      <td>0.257</td>\n",
              "      <td>0.449</td>\n",
              "      <td>0.697</td>\n",
              "      <td>entropy</td>\n",
              "      <td>10</td>\n",
              "      <td>log2</td>\n",
              "      <td>5</td>\n",
              "      <td>2</td>\n",
              "    </tr>\n",
              "  </tbody>\n",
              "</table>\n",
              "</div>"
            ],
            "text/plain": [
              "     mean_test_precision_score  ...  param_min_samples_leaf\n",
              "142                      0.280  ...                       2\n",
              "11                       0.268  ...                       2\n",
              "143                      0.257  ...                       2\n",
              "\n",
              "[3 rows x 8 columns]"
            ]
          },
          "metadata": {
            "tags": []
          }
        },
        {
          "output_type": "stream",
          "text": [
            "\n",
            "Top 3 Optimal Parameter Combinations for XGBoost\n"
          ],
          "name": "stdout"
        },
        {
          "output_type": "display_data",
          "data": {
            "text/html": [
              "<div>\n",
              "<style scoped>\n",
              "    .dataframe tbody tr th:only-of-type {\n",
              "        vertical-align: middle;\n",
              "    }\n",
              "\n",
              "    .dataframe tbody tr th {\n",
              "        vertical-align: top;\n",
              "    }\n",
              "\n",
              "    .dataframe thead th {\n",
              "        text-align: right;\n",
              "    }\n",
              "</style>\n",
              "<table border=\"1\" class=\"dataframe\">\n",
              "  <thead>\n",
              "    <tr style=\"text-align: right;\">\n",
              "      <th></th>\n",
              "      <th>mean_test_precision_score</th>\n",
              "      <th>mean_test_recall_score</th>\n",
              "      <th>mean_test_accuracy_score</th>\n",
              "      <th>param_booster</th>\n",
              "      <th>param_gamma</th>\n",
              "      <th>param_learning_rate</th>\n",
              "      <th>param_max_depth</th>\n",
              "      <th>param_n_estimators</th>\n",
              "    </tr>\n",
              "  </thead>\n",
              "  <tbody>\n",
              "    <tr>\n",
              "      <th>29</th>\n",
              "      <td>0.687</td>\n",
              "      <td>0.427</td>\n",
              "      <td>0.875</td>\n",
              "      <td>gbtree</td>\n",
              "      <td>0.1</td>\n",
              "      <td>0.4</td>\n",
              "      <td>3</td>\n",
              "      <td>200</td>\n",
              "    </tr>\n",
              "    <tr>\n",
              "      <th>15</th>\n",
              "      <td>0.656</td>\n",
              "      <td>0.421</td>\n",
              "      <td>0.870</td>\n",
              "      <td>gbtree</td>\n",
              "      <td>0</td>\n",
              "      <td>0.4</td>\n",
              "      <td>4</td>\n",
              "      <td>200</td>\n",
              "    </tr>\n",
              "    <tr>\n",
              "      <th>41</th>\n",
              "      <td>0.714</td>\n",
              "      <td>0.421</td>\n",
              "      <td>0.878</td>\n",
              "      <td>dart</td>\n",
              "      <td>0</td>\n",
              "      <td>0.35</td>\n",
              "      <td>3</td>\n",
              "      <td>200</td>\n",
              "    </tr>\n",
              "  </tbody>\n",
              "</table>\n",
              "</div>"
            ],
            "text/plain": [
              "    mean_test_precision_score  ...  param_n_estimators\n",
              "29                      0.687  ...                 200\n",
              "15                      0.656  ...                 200\n",
              "41                      0.714  ...                 200\n",
              "\n",
              "[3 rows x 8 columns]"
            ]
          },
          "metadata": {
            "tags": []
          }
        },
        {
          "output_type": "stream",
          "text": [
            "\n",
            "Top 3 Optimal Parameter Combinations for Logistic Regression\n"
          ],
          "name": "stdout"
        },
        {
          "output_type": "display_data",
          "data": {
            "text/html": [
              "<div>\n",
              "<style scoped>\n",
              "    .dataframe tbody tr th:only-of-type {\n",
              "        vertical-align: middle;\n",
              "    }\n",
              "\n",
              "    .dataframe tbody tr th {\n",
              "        vertical-align: top;\n",
              "    }\n",
              "\n",
              "    .dataframe thead th {\n",
              "        text-align: right;\n",
              "    }\n",
              "</style>\n",
              "<table border=\"1\" class=\"dataframe\">\n",
              "  <thead>\n",
              "    <tr style=\"text-align: right;\">\n",
              "      <th></th>\n",
              "      <th>mean_test_precision_score</th>\n",
              "      <th>mean_test_recall_score</th>\n",
              "      <th>mean_test_accuracy_score</th>\n",
              "      <th>param_C</th>\n",
              "      <th>param_penalty</th>\n",
              "      <th>param_solver</th>\n",
              "      <th>param_max_iter</th>\n",
              "    </tr>\n",
              "  </thead>\n",
              "  <tbody>\n",
              "    <tr>\n",
              "      <th>129</th>\n",
              "      <td>0.746</td>\n",
              "      <td>0.42</td>\n",
              "      <td>0.882</td>\n",
              "      <td>10</td>\n",
              "      <td>l2</td>\n",
              "      <td>saga</td>\n",
              "      <td>700</td>\n",
              "    </tr>\n",
              "    <tr>\n",
              "      <th>111</th>\n",
              "      <td>0.732</td>\n",
              "      <td>0.42</td>\n",
              "      <td>0.881</td>\n",
              "      <td>10</td>\n",
              "      <td>l2</td>\n",
              "      <td>lbfgs</td>\n",
              "      <td>500</td>\n",
              "    </tr>\n",
              "    <tr>\n",
              "      <th>92</th>\n",
              "      <td>0.705</td>\n",
              "      <td>0.42</td>\n",
              "      <td>0.877</td>\n",
              "      <td>10</td>\n",
              "      <td>l1</td>\n",
              "      <td>liblinear</td>\n",
              "      <td>300</td>\n",
              "    </tr>\n",
              "  </tbody>\n",
              "</table>\n",
              "</div>"
            ],
            "text/plain": [
              "     mean_test_precision_score  ...  param_max_iter\n",
              "129                      0.746  ...             700\n",
              "111                      0.732  ...             500\n",
              "92                       0.705  ...             300\n",
              "\n",
              "[3 rows x 7 columns]"
            ]
          },
          "metadata": {
            "tags": []
          }
        },
        {
          "output_type": "stream",
          "text": [
            "\n"
          ],
          "name": "stdout"
        }
      ]
    },
    {
      "cell_type": "markdown",
      "metadata": {
        "id": "BuFh2Mb6ttmq",
        "colab_type": "text"
      },
      "source": [
        "## Data Augmentation"
      ]
    },
    {
      "cell_type": "markdown",
      "metadata": {
        "id": "s52aGXlrOR2g",
        "colab_type": "text"
      },
      "source": [
        "#### SMOTE: Synthetic Minority Oversampling Technique"
      ]
    },
    {
      "cell_type": "markdown",
      "metadata": {
        "id": "dHlD2qV-hVAd",
        "colab_type": "text"
      },
      "source": [
        "* SMOTE should be applied on the training set. Then, the model should be \"evaluated on the stratified but non-transformed test set\" (Brownlee, 2020).\n",
        "* I  make copies of the existing X and Y sets and extract their values. It is usually not necessary to specify \".values\", but the SMOTE plus XGBoost combination had some conficts with the data being pandas."
      ]
    },
    {
      "cell_type": "code",
      "metadata": {
        "id": "ASwnzbDeiBw9",
        "colab_type": "code",
        "colab": {}
      },
      "source": [
        "y_aug = copy.deepcopy(attrition.values)\n",
        "x_aug = copy.deepcopy(scaled_df.values)\n",
        "\n",
        "X_train, X_test, y_train, y_test = train_test_split(x_aug, y_aug, \n",
        "                                                    stratify=attrition)"
      ],
      "execution_count": 0,
      "outputs": []
    },
    {
      "cell_type": "code",
      "metadata": {
        "id": "TuKMlDkvLDBR",
        "colab_type": "code",
        "colab": {
          "base_uri": "https://localhost:8080/",
          "height": 299
        },
        "outputId": "3d2c972b-e71b-4d5b-9ce4-8e526f13785d"
      },
      "source": [
        "# Adopted parts of code from Brownlee, J. (2020).\n",
        "\n",
        "# Class distribution summary\n",
        "counter = Counter(y_train)\n",
        "print(counter)\n",
        "print()\n",
        "\n",
        "# scatter plot of examples by class label\n",
        "for label, _ in counter.items():\n",
        "\trow_ix = where(y_train == label)[0]\n",
        "\tplt.scatter(X_train[row_ix, 0], X_train[row_ix, 1], label=str(label))\n",
        "plt.legend()\n",
        "plt.show()"
      ],
      "execution_count": 249,
      "outputs": [
        {
          "output_type": "stream",
          "text": [
            "Counter({0: 924, 1: 178})\n",
            "\n"
          ],
          "name": "stdout"
        },
        {
          "output_type": "display_data",
          "data": {
            "image/png": "[encoded data removed]",
            "text/plain": [
              "<Figure size 432x288 with 1 Axes>"
            ]
          },
          "metadata": {
            "tags": [],
            "needs_background": "light"
          }
        }
      ]
    },
    {
      "cell_type": "code",
      "metadata": {
        "id": "nwAfDQMjNE4R",
        "colab_type": "code",
        "colab": {
          "base_uri": "https://localhost:8080/",
          "height": 282
        },
        "outputId": "90ac8296-0f31-4f3a-d69c-680fa37a9706"
      },
      "source": [
        "# transform the dataset\n",
        "smt = SMOTE(random_state=0)\n",
        "X_train_aug, y_train_aug = smt.fit_resample(X_train, y_train)\n",
        "\n",
        "# summarize the new class distribution\n",
        "counter = Counter(y_train_aug)\n",
        "print(counter)\n",
        "\n",
        "# See how the SMOTE classifier has transformed the training set\n",
        "for label, _ in counter.items():\n",
        "\trow_ix = where(y_train_aug == label)[0]\n",
        "\tplt.scatter(X_train_aug[row_ix, 0], X_train_aug[row_ix, 1], label=str(label))\n",
        "plt.legend()\n",
        "plt.show()"
      ],
      "execution_count": 250,
      "outputs": [
        {
          "output_type": "stream",
          "text": [
            "Counter({0: 924, 1: 924})\n"
          ],
          "name": "stdout"
        },
        {
          "output_type": "display_data",
          "data": {
            "image/png": "[encoded data removed]",
            "text/plain": [
              "<Figure size 432x288 with 1 Axes>"
            ]
          },
          "metadata": {
            "tags": [],
            "needs_background": "light"
          }
        }
      ]
    },
    {
      "cell_type": "code",
      "metadata": {
        "id": "PZ-4qAr6X-oK",
        "colab_type": "code",
        "colab": {}
      },
      "source": [
        "classifiers = {'DT': DecisionTreeClassifier(class_weight='balanced'),\n",
        "               'XGB': XGBClassifier(),\n",
        "               'LR': LogisticRegression(max_iter=500)}\n",
        "\n",
        "def aug_pipeline(clf, clf_name, X_train, y_train, X_test, y_test, smt):\n",
        "  pipeline = Pipeline([('smt', smt), ('clf_name', clf)])\n",
        "  pipeline.fit(X_train, y_train)\n",
        "  return (results(pipeline, clf_name, X_test, y_test, verbose=True))"
      ],
      "execution_count": 0,
      "outputs": []
    },
    {
      "cell_type": "code",
      "metadata": {
        "id": "zCm6H2IsaIoU",
        "colab_type": "code",
        "outputId": "e0d98c26-e010-4fb3-d231-a82a4d9c9943",
        "colab": {
          "base_uri": "https://localhost:8080/",
          "height": 255
        }
      },
      "source": [
        "print('Scores for basic models, trained on augmented balanced data:\\n')\n",
        "\n",
        "for key in classifiers:\n",
        "  aug_pipeline(classifiers[key], key, X_train, y_train, X_test, y_test, smt)"
      ],
      "execution_count": 173,
      "outputs": [
        {
          "output_type": "stream",
          "text": [
            "Scores for basic models, trained on augmented balanced data:\n",
            "\n",
            "Recall for DT 0.4066\n",
            "Precision for DT 0.3131\n",
            "F1 for DT 0.353\n",
            "\n",
            "Recall for XGB 0.3515\n",
            "Precision for XGB 0.5429\n",
            "F1 for XGB 0.4213\n",
            "\n",
            "Recall for LR 0.6944\n",
            "Precision for LR 0.3884\n",
            "F1 for LR 0.495\n",
            "\n"
          ],
          "name": "stdout"
        }
      ]
    },
    {
      "cell_type": "markdown",
      "metadata": {
        "id": "a_XahEJ5BQWR",
        "colab_type": "text"
      },
      "source": [
        "## Feature Importance"
      ]
    },
    {
      "cell_type": "markdown",
      "metadata": {
        "id": "L6xeywr1BQWa",
        "colab_type": "text"
      },
      "source": [
        "Gettng the top 10 most important features from the best performing model - Logistic Regression - to predict employee attrition."
      ]
    },
    {
      "cell_type": "code",
      "metadata": {
        "id": "NnkYCsfB1fl6",
        "colab_type": "code",
        "colab": {}
      },
      "source": [
        "lr = LogisticRegression()\n",
        "lr.fit(X_train, y_train)\n",
        "importance = lr.coef_[0]"
      ],
      "execution_count": 0,
      "outputs": []
    },
    {
      "cell_type": "code",
      "metadata": {
        "id": "1BHnzfay2-_b",
        "colab_type": "code",
        "colab": {
          "base_uri": "https://localhost:8080/",
          "height": 187
        },
        "outputId": "6287a22c-d6b5-4053-8c22-194b8bb0ad02"
      },
      "source": [
        "merged_list = [(list(scaled_df.columns)[i],importance[i]) for i in range(0, len((list(scaled_df.columns))))]\n",
        "sorted_imp = sorted(merged_list, key=lambda x: x[-1], reverse=True)\n",
        "sorted_imp[:10]"
      ],
      "execution_count": 197,
      "outputs": [
        {
          "output_type": "execute_result",
          "data": {
            "text/plain": [
              "[('YearsSinceLastPromotion', 1.8288596995685864),\n",
              " ('OverTime', 1.7551717513868836),\n",
              " ('NumCompaniesWorked', 1.2363779913652675),\n",
              " ('DistanceFromHome', 0.9351309000922813),\n",
              " ('JobRole_Laboratory Technician', 0.8018018621142567),\n",
              " ('BusinessTravel_Travel_Frequently', 0.7800932447765359),\n",
              " ('YearsAtCompany', 0.63279144334254),\n",
              " ('MaritalStatus_Single', 0.6215242500476372),\n",
              " ('JobRole_Sales Representative', 0.611415076609277),\n",
              " ('EducationField_Human Resources', 0.5536769725879849)]"
            ]
          },
          "metadata": {
            "tags": []
          },
          "execution_count": 197
        }
      ]
    },
    {
      "cell_type": "code",
      "metadata": {
        "id": "nooShDvq7gVY",
        "colab_type": "code",
        "colab": {
          "base_uri": "https://localhost:8080/",
          "height": 439
        },
        "outputId": "89b41d51-cebb-494a-8dd3-d0f9ff343b75"
      },
      "source": [
        "# ax setup adopted from Hunter et al. (2020)\n",
        "\n",
        "labels = [i[0] for i in sorted_imp[:10]]\n",
        "scores_lst = [i[1] for i in sorted_imp[:10]]\n",
        "x = np.arange(len(labels))  # the label locations\n",
        "\n",
        "fig, ax = plt.subplots(figsize=(8,4))\n",
        "ax.bar(x, scores_lst, 0.5)\n",
        "ax.set_ylabel('Score')\n",
        "ax.set_title('Feature Importance Scores')\n",
        "ax.set_xticks(x)\n",
        "ax.set_xticklabels(labels, rotation=90)\n",
        "plt.show()"
      ],
      "execution_count": 247,
      "outputs": [
        {
          "output_type": "display_data",
          "data": {
            "image/png": "[encoded data removed]",
            "text/plain": [
              "<Figure size 576x288 with 1 Axes>"
            ]
          },
          "metadata": {
            "tags": [],
            "needs_background": "light"
          }
        }
      ]
    },
    {
      "cell_type": "markdown",
      "metadata": {
        "id": "d9ETHH0gjoqg",
        "colab_type": "text"
      },
      "source": [
        "## References\n",
        "\n",
        "1. Arvai, K. (2018). Fine tuning a classifier in scikit-learn. Retrieved from https://towardsdatascience.com/fine-tuning-a-classifier-in-scikit-learn-66e048c21e65\n",
        "\n",
        "\n",
        "2. Brownlee, J. (2020) SMOTE for Imbalanced Classification with Python. https://machinelearningmastery.com/smote-oversampling-for-imbalanced-classification/\n",
        "\n",
        "\n",
        "3. Hunter, J., Dale, D., Firing, E., Droettboom, M. (2020). Grouped bar chart with labels. https://matplotlib.org/3.1.1/gallery/lines_bars_and_markers/barchart.html\n",
        "\n",
        "\n",
        "4. Koehrsen, W. (2018). Hyperparameter Tuning the Random Forest in Python.\n",
        "https://towardsdatascience.com/hyperparameter-tuning-the-random-forest-in-python-using-scikit-learn-28d2aa77dd74\n",
        "\n",
        "\n",
        "5. Subhash, P. (2017). IBM HR Analytics Employee Attrition & Performance, Version 1. Retrieved from https://www.kaggle.com/pavansubhasht/ibm-hr-analytics-attrition-dataset/metadata"
      ]
    }
  ]
}